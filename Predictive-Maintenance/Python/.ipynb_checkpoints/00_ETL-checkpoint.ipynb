{
 "cells": [
  {
   "cell_type": "markdown",
   "metadata": {},
   "source": [
    "# ETL\n",
    "\n",
    "\n",
    "## Data Sources¶\n",
    "Common data sources for predictive maintenance problems are :\n",
    "\n",
    "* **Failure history**: The failure history of a machine or component within the machine.\n",
    "* **Maintenance history**: The repair history of a machine, e.g. error codes, previous maintenance activities or component replacements.\n",
    "* **Machine conditions and usage**: The operating conditions of a machine e.g. data collected from sensors.\n",
    "* **Machine features**: The features of a machine, e.g. engine size, make and model, location.\n",
    "* **Operator features**: The features of the operator, e.g. gender, past experience The data for this example comes from 4 different sources which are real-time telemetry data collected from machines, error messages, historical maintenance records that include failures and machine information such as type and age."
   ]
  },
  {
   "cell_type": "code",
   "execution_count": 2,
   "metadata": {},
   "outputs": [],
   "source": [
    "import findspark\n",
    "findspark.init()\n",
    "\n",
    "findspark.find()\n",
    "import pyspark\n",
    "findspark.find()\n",
    "\n",
    "from pyspark import SparkContext, SparkConf\n",
    "from pyspark.sql import SparkSession\n",
    "from pyspark.sql.types import *\n",
    "\n",
    "sc = pyspark.SparkContext(appName=\"ETL\")\n",
    "spark = SparkSession(sc)"
   ]
  },
  {
   "cell_type": "code",
   "execution_count": 33,
   "metadata": {},
   "outputs": [],
   "source": [
    "from pyspark.sql.types import *\n",
    "    \n",
    "telemetry_schema = StructType([\n",
    "  # Define a StructField for each field\n",
    "  StructField('datetime', TimestampType(), False),\n",
    "  StructField('machineID', IntegerType(), False),\n",
    "  StructField('volt', DoubleType(), False),\n",
    "  StructField('rotate', DoubleType(), False),\n",
    "  StructField('pressure', DoubleType(), False),\n",
    "  StructField('vibration', DoubleType(), False)\n",
    "])\n",
    "\n",
    "errors_schema = StructType([\n",
    "  # Define a StructField for each field\n",
    "  StructField('datetime', TimestampType(), False),\n",
    "  StructField('machineID', IntegerType(), False),\n",
    "  StructField('errorID', StringType(), False)\n",
    "])\n",
    "\n",
    "maint_schema = StructType([\n",
    "  # Define a StructField for each field\n",
    "  StructField('datetime', TimestampType(), False),\n",
    "  StructField('machineID', IntegerType(), False),\n",
    "  StructField('comp', StringType(), False)\n",
    "])\n",
    "\n",
    "failures_schema = StructType([\n",
    "  # Define a StructField for each field\n",
    "  StructField('datetime', StringType(), False),\n",
    "  StructField('machineID', IntegerType(), False),\n",
    "  StructField('failure', StringType(), False)\n",
    "])\n",
    "\n",
    "machines_schema = StructType([\n",
    "  # Define a StructField for each field\n",
    "  StructField('machineID', IntegerType(), False),\n",
    "  StructField('model', StringType(), False),\n",
    "  StructField('age', IntegerType(), False)\n",
    "])"
   ]
  },
  {
   "cell_type": "code",
   "execution_count": 34,
   "metadata": {},
   "outputs": [],
   "source": [
    "telemetry = spark.read.csv('../data/PdM_telemetry.csv', header = True, schema = telemetry_schema)\n",
    "errors = spark.read.csv('../data/PdM_errors.csv', header = True, schema = errors_schema)\n",
    "maint = spark.read.csv('../data/PdM_maint.csv', header = True, schema = maint_schema)\n",
    "failures = spark.read.csv('../data/PdM_failures.csv', header = True, schema = failures_schema)\n",
    "machines = spark.read.csv('../data/PdM_machines.csv', header = True, schema = machines_schema)"
   ]
  },
  {
   "cell_type": "code",
   "execution_count": 35,
   "metadata": {},
   "outputs": [
    {
     "name": "stdout",
     "output_type": "stream",
     "text": [
      "root\n",
      " |-- datetime: timestamp (nullable = true)\n",
      " |-- machineID: integer (nullable = true)\n",
      " |-- volt: double (nullable = true)\n",
      " |-- rotate: double (nullable = true)\n",
      " |-- pressure: double (nullable = true)\n",
      " |-- vibration: double (nullable = true)\n",
      "\n"
     ]
    }
   ],
   "source": [
    "telemetry.printSchema()"
   ]
  },
  {
   "cell_type": "code",
   "execution_count": 36,
   "metadata": {},
   "outputs": [
    {
     "name": "stdout",
     "output_type": "stream",
     "text": [
      "+-------------------+---------+----------------+----------------+----------------+----------------+\n",
      "|           datetime|machineID|            volt|          rotate|        pressure|       vibration|\n",
      "+-------------------+---------+----------------+----------------+----------------+----------------+\n",
      "|2015-01-01 06:00:00|        1|176.217853015625|418.504078221616|113.077935462083|45.0876857639276|\n",
      "|2015-01-01 07:00:00|        1| 162.87922289706|402.747489565395|95.4605253823187|43.4139726834815|\n",
      "|2015-01-01 08:00:00|        1|170.989902405567|527.349825452291|75.2379048586662|34.1788471214451|\n",
      "|2015-01-01 09:00:00|        1|162.462833264092|346.149335043074|109.248561276504|41.1221440884256|\n",
      "|2015-01-01 10:00:00|        1| 157.61002119306|435.376873016938|111.886648210168|25.9905109982024|\n",
      "|2015-01-01 11:00:00|        1|172.504839196295|430.323362106675|95.9270416939636|35.6550173268837|\n",
      "|2015-01-01 12:00:00|        1|156.556030606329|499.071623068962|111.755684290096|42.7539196974773|\n",
      "|2015-01-01 13:00:00|        1|172.522780814836|409.624717000438| 101.00108276407|35.4820086610704|\n",
      "|2015-01-01 14:00:00|        1|175.324523915223|398.648780707752|110.624360548654|45.4822868466294|\n",
      "|2015-01-01 15:00:00|        1|169.218423246933|460.850669930244|104.848229967003|39.9017354356787|\n",
      "+-------------------+---------+----------------+----------------+----------------+----------------+\n",
      "only showing top 10 rows\n",
      "\n"
     ]
    }
   ],
   "source": [
    "telemetry.show(10)"
   ]
  },
  {
   "cell_type": "code",
   "execution_count": 37,
   "metadata": {},
   "outputs": [],
   "source": [
    "# Write the data sets to intermediate storage\n",
    "\n",
    "telemetry.write.parquet(\"../Python/input/PdM_telemetry.parquet\")\n",
    "errors.write.parquet(\"../Python/input/PdM_errors.parquet\")\n",
    "maint.write.parquet(\"../Python/input/PdM_maint.parquet\")\n",
    "failures.write.parquet(\"../Python/input/PdM_failures.parquet\")\n",
    "machines.write.parquet(\"../Python/input/PdM_machines.parquet\")"
   ]
  },
  {
   "cell_type": "code",
   "execution_count": null,
   "metadata": {},
   "outputs": [],
   "source": []
  }
 ],
 "metadata": {
  "kernelspec": {
   "display_name": "Python 3",
   "language": "python",
   "name": "python3"
  },
  "language_info": {
   "codemirror_mode": {
    "name": "ipython",
    "version": 3
   },
   "file_extension": ".py",
   "mimetype": "text/x-python",
   "name": "python",
   "nbconvert_exporter": "python",
   "pygments_lexer": "ipython3",
   "version": "3.6.5"
  },
  "toc": {
   "base_numbering": 1,
   "nav_menu": {},
   "number_sections": true,
   "sideBar": true,
   "skip_h1_title": false,
   "title_cell": "Table of Contents",
   "title_sidebar": "Contents",
   "toc_cell": false,
   "toc_position": {},
   "toc_section_display": true,
   "toc_window_display": false
  },
  "varInspector": {
   "cols": {
    "lenName": 16,
    "lenType": 16,
    "lenVar": 40
   },
   "kernels_config": {
    "python": {
     "delete_cmd_postfix": "",
     "delete_cmd_prefix": "del ",
     "library": "var_list.py",
     "varRefreshCmd": "print(var_dic_list())"
    },
    "r": {
     "delete_cmd_postfix": ") ",
     "delete_cmd_prefix": "rm(",
     "library": "var_list.r",
     "varRefreshCmd": "cat(var_dic_list()) "
    }
   },
   "types_to_exclude": [
    "module",
    "function",
    "builtin_function_or_method",
    "instance",
    "_Feature"
   ],
   "window_display": false
  }
 },
 "nbformat": 4,
 "nbformat_minor": 2
}
